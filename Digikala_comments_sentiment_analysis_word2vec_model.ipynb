{
  "nbformat": 4,
  "nbformat_minor": 0,
  "metadata": {
    "colab": {
      "name": "Digikala-comments-sentiment-analysis-word2vec-model.ipynb",
      "provenance": [],
      "collapsed_sections": [],
      "include_colab_link": true
    },
    "kernelspec": {
      "name": "python3",
      "display_name": "Python 3"
    },
    "accelerator": "GPU"
  },
  "cells": [
    {
      "cell_type": "markdown",
      "metadata": {
        "id": "view-in-github",
        "colab_type": "text"
      },
      "source": [
        "<a href=\"https://colab.research.google.com/github/zhpinkman/sentiment-analysis-digikala/blob/master/Digikala_comments_sentiment_analysis_word2vec_model.ipynb\" target=\"_parent\"><img src=\"https://colab.research.google.com/assets/colab-badge.svg\" alt=\"Open In Colab\"/></a>"
      ]
    },
    {
      "cell_type": "markdown",
      "metadata": {
        "id": "L5H3Z2WH24mp"
      },
      "source": [
        "Importing the essential packages for the project"
      ]
    },
    {
      "cell_type": "code",
      "metadata": {
        "id": "0m2sVaUotEDh"
      },
      "source": [
        "import numpy as np\n",
        "import pandas as pd\n",
        "import fasttext.util\n",
        "import matplotlib.pyplot as plt\n",
        "import seaborn as sns\n",
        "from sklearn.utils import resample\n",
        "from tensorflow.keras.preprocessing.text import Tokenizer\n",
        "from tensorflow.keras.preprocessing.sequence import pad_sequences\n",
        "from sklearn.model_selection import train_test_split\n",
        "from tensorflow.keras.models import Sequential\n",
        "from tensorflow.keras.layers import LSTM, Dense, Dropout\n",
        "from tensorflow.keras.layers import SpatialDropout1D\n",
        "from tensorflow.keras.layers import Embedding\n",
        "from tensorflow.keras.callbacks import EarlyStopping"
      ],
      "execution_count": 74,
      "outputs": []
    },
    {
      "cell_type": "markdown",
      "metadata": {
        "id": "-pw_qJe83FZ4"
      },
      "source": [
        "model's parameters"
      ]
    },
    {
      "cell_type": "code",
      "metadata": {
        "id": "L7GsPM4X3D29"
      },
      "source": [
        "embedding_vector_length = 300\n",
        "sentences_max_length = 70\n",
        "lstm_units = 50"
      ],
      "execution_count": 80,
      "outputs": []
    },
    {
      "cell_type": "code",
      "metadata": {
        "id": "7VFe_m-yd3eK",
        "colab": {
          "base_uri": "https://localhost:8080/"
        },
        "outputId": "a7802ec7-adbd-4790-c24a-d83593ba3e5a"
      },
      "source": [
        "!git clone https://github.com/facebookresearch/fastText.git"
      ],
      "execution_count": 1,
      "outputs": [
        {
          "output_type": "stream",
          "text": [
            "Cloning into 'fastText'...\n",
            "remote: Enumerating objects: 3854, done.\u001b[K\n",
            "remote: Total 3854 (delta 0), reused 0 (delta 0), pack-reused 3854\u001b[K\n",
            "Receiving objects: 100% (3854/3854), 8.22 MiB | 34.38 MiB/s, done.\n",
            "Resolving deltas: 100% (2417/2417), done.\n"
          ],
          "name": "stdout"
        }
      ]
    },
    {
      "cell_type": "code",
      "metadata": {
        "id": "4QDlLOb9e39X"
      },
      "source": [
        "!sudo pip install fastText/.\n",
        "!cd fastText\n",
        "fasttext.util.download_model('fa', if_exists='ignore')\n",
        "ft = fasttext.load_model('cc.fa.300.bin')"
      ],
      "execution_count": 4,
      "outputs": []
    },
    {
      "cell_type": "markdown",
      "metadata": {
        "id": "dat67IlGdj9-"
      },
      "source": [
        "inspecting the result of getting nearest neighbors using the fasttext model on certain words."
      ]
    },
    {
      "cell_type": "code",
      "metadata": {
        "id": "1E0lKqxojOrR",
        "colab": {
          "base_uri": "https://localhost:8080/"
        },
        "outputId": "1da43a51-9085-4c87-8ac2-f8b3fd626f62"
      },
      "source": [
        "ft.get_nearest_neighbors('طلا')"
      ],
      "execution_count": 8,
      "outputs": [
        {
          "output_type": "execute_result",
          "data": {
            "text/plain": [
              "[(0.694230854511261, 'طلای'),\n",
              " (0.6849290728569031, 'طلاو'),\n",
              " (0.6164087057113647, 'طلابه'),\n",
              " (0.6109494566917419, 'نقره'),\n",
              " (0.5962421298027039, 'جواهر'),\n",
              " (0.5737359523773193, 'سکه'),\n",
              " (0.5678431987762451, 'طلاوجواهر'),\n",
              " (0.5546823143959045, 'وجواهر'),\n",
              " (0.5541793704032898, 'طلادر'),\n",
              " (0.5481424331665039, 'طلاسکه')]"
            ]
          },
          "metadata": {
            "tags": []
          },
          "execution_count": 8
        }
      ]
    },
    {
      "cell_type": "code",
      "metadata": {
        "id": "ejzW1gCijawV",
        "colab": {
          "base_uri": "https://localhost:8080/"
        },
        "outputId": "65704b65-81c6-442c-8ef3-37debe8cc67a"
      },
      "source": [
        "ft.get_nearest_neighbors('ماشین')"
      ],
      "execution_count": 9,
      "outputs": [
        {
          "output_type": "execute_result",
          "data": {
            "text/plain": [
              "[(0.6747990250587463, 'ازماشین'),\n",
              " (0.6507582068443298, 'ماشینهای'),\n",
              " (0.6458106637001038, 'وماشین'),\n",
              " (0.6424431800842285, 'ماشین\\u200cهای'),\n",
              " (0.6340875625610352, 'ماشینماشین'),\n",
              " (0.629118025302887, 'تولیدماشین'),\n",
              " (0.6223403215408325, 'اتومبیل'),\n",
              " (0.6012367606163025, 'خریدماشین'),\n",
              " (0.5977076292037964, 'است.ماشین'),\n",
              " (0.5947739481925964, 'ماشین\\xad')]"
            ]
          },
          "metadata": {
            "tags": []
          },
          "execution_count": 9
        }
      ]
    },
    {
      "cell_type": "code",
      "metadata": {
        "id": "l65KatfBmZSt",
        "colab": {
          "base_uri": "https://localhost:8080/"
        },
        "outputId": "ac2f53e9-ad79-47b7-c29b-80b63d2c0253"
      },
      "source": [
        "# from google.colab import drive\n",
        "# drive.mount('/content/drive')"
      ],
      "execution_count": 11,
      "outputs": [
        {
          "output_type": "stream",
          "text": [
            "Mounted at /content/drive\n"
          ],
          "name": "stdout"
        }
      ]
    },
    {
      "cell_type": "code",
      "metadata": {
        "colab": {
          "base_uri": "https://localhost:8080/"
        },
        "id": "h0DqvdJZeug4",
        "outputId": "f4261ef8-af50-497f-abdf-4752b0ed820c"
      },
      "source": [
        "!unzip archive.zip"
      ],
      "execution_count": 13,
      "outputs": [
        {
          "output_type": "stream",
          "text": [
            "Archive:  archive.zip\n",
            "  inflating: data.csv                \n"
          ],
          "name": "stdout"
        }
      ]
    },
    {
      "cell_type": "code",
      "metadata": {
        "id": "LmF8Vul-mUSY",
        "colab": {
          "base_uri": "https://localhost:8080/",
          "height": 143
        },
        "outputId": "acadf6ad-711d-4cc6-fe37-241a39665d0b"
      },
      "source": [
        "df = pd.read_csv('data.csv')\n",
        "df.head(3)"
      ],
      "execution_count": 57,
      "outputs": [
        {
          "output_type": "execute_result",
          "data": {
            "text/html": [
              "<div>\n",
              "<style scoped>\n",
              "    .dataframe tbody tr th:only-of-type {\n",
              "        vertical-align: middle;\n",
              "    }\n",
              "\n",
              "    .dataframe tbody tr th {\n",
              "        vertical-align: top;\n",
              "    }\n",
              "\n",
              "    .dataframe thead th {\n",
              "        text-align: right;\n",
              "    }\n",
              "</style>\n",
              "<table border=\"1\" class=\"dataframe\">\n",
              "  <thead>\n",
              "    <tr style=\"text-align: right;\">\n",
              "      <th></th>\n",
              "      <th>Text</th>\n",
              "      <th>Score</th>\n",
              "      <th>Suggestion</th>\n",
              "    </tr>\n",
              "  </thead>\n",
              "  <tbody>\n",
              "    <tr>\n",
              "      <th>0</th>\n",
              "      <td>این اولین تجربه من برای خرید ایفون هست   امروز...</td>\n",
              "      <td>100</td>\n",
              "      <td>1</td>\n",
              "    </tr>\n",
              "    <tr>\n",
              "      <th>1</th>\n",
              "      <td>خرید این محصول رو توصیه میکنم</td>\n",
              "      <td>84</td>\n",
              "      <td>1</td>\n",
              "    </tr>\n",
              "    <tr>\n",
              "      <th>2</th>\n",
              "      <td>1 ساله این گوشی رو دارم   هیچ نقطه ضعفی ازش ند...</td>\n",
              "      <td>60</td>\n",
              "      <td>1</td>\n",
              "    </tr>\n",
              "  </tbody>\n",
              "</table>\n",
              "</div>"
            ],
            "text/plain": [
              "                                                Text  Score  Suggestion\n",
              "0  این اولین تجربه من برای خرید ایفون هست   امروز...    100           1\n",
              "1                     خرید این محصول رو توصیه میکنم      84           1\n",
              "2  1 ساله این گوشی رو دارم   هیچ نقطه ضعفی ازش ند...     60           1"
            ]
          },
          "metadata": {
            "tags": []
          },
          "execution_count": 57
        }
      ]
    },
    {
      "cell_type": "code",
      "metadata": {
        "id": "9tozMje1tikW"
      },
      "source": [
        "text_lengths = df['Text'].apply(lambda x: len(x.split(' '))).values"
      ],
      "execution_count": 58,
      "outputs": []
    },
    {
      "cell_type": "code",
      "metadata": {
        "colab": {
          "base_uri": "https://localhost:8080/"
        },
        "id": "U39c4gkdt3gi",
        "outputId": "b87a331e-64d1-4e5f-9132-2047c13b2987"
      },
      "source": [
        "print('mean of the sentences length: {}'.format(np.mean(text_lengths)))\n",
        "print('max of the sentences length: {}'.format(np.max(text_lengths)))"
      ],
      "execution_count": 59,
      "outputs": [
        {
          "output_type": "stream",
          "text": [
            "mean of the sentences length: 56.590616375344986\n",
            "max of the sentences length: 1347\n"
          ],
          "name": "stdout"
        }
      ]
    },
    {
      "cell_type": "code",
      "metadata": {
        "id": "fgcGgtsvuY78"
      },
      "source": [
        "df.drop(columns=['Score'], axis=1, inplace=True)"
      ],
      "execution_count": 60,
      "outputs": []
    },
    {
      "cell_type": "code",
      "metadata": {
        "id": "2sMjD1jSvNk0"
      },
      "source": [
        "df['Suggestion'] = df['Suggestion'].replace(2, 1)\n",
        "df['Suggestion'] = df['Suggestion'].replace(3, 0)"
      ],
      "execution_count": 61,
      "outputs": []
    },
    {
      "cell_type": "code",
      "metadata": {
        "colab": {
          "base_uri": "https://localhost:8080/"
        },
        "id": "7k5rgZm7vTXF",
        "outputId": "561e30aa-b140-452a-bcfd-a1e250940ac6"
      },
      "source": [
        "df['Suggestion'].unique()"
      ],
      "execution_count": 62,
      "outputs": [
        {
          "output_type": "execute_result",
          "data": {
            "text/plain": [
              "array([1, 0])"
            ]
          },
          "metadata": {
            "tags": []
          },
          "execution_count": 62
        }
      ]
    },
    {
      "cell_type": "code",
      "metadata": {
        "id": "wDD8p0_YoDyM",
        "colab": {
          "base_uri": "https://localhost:8080/",
          "height": 206
        },
        "outputId": "07e80ae5-d373-4b7b-860d-82015cfd2cb7"
      },
      "source": [
        "df.head(5)"
      ],
      "execution_count": 63,
      "outputs": [
        {
          "output_type": "execute_result",
          "data": {
            "text/html": [
              "<div>\n",
              "<style scoped>\n",
              "    .dataframe tbody tr th:only-of-type {\n",
              "        vertical-align: middle;\n",
              "    }\n",
              "\n",
              "    .dataframe tbody tr th {\n",
              "        vertical-align: top;\n",
              "    }\n",
              "\n",
              "    .dataframe thead th {\n",
              "        text-align: right;\n",
              "    }\n",
              "</style>\n",
              "<table border=\"1\" class=\"dataframe\">\n",
              "  <thead>\n",
              "    <tr style=\"text-align: right;\">\n",
              "      <th></th>\n",
              "      <th>Text</th>\n",
              "      <th>Suggestion</th>\n",
              "    </tr>\n",
              "  </thead>\n",
              "  <tbody>\n",
              "    <tr>\n",
              "      <th>0</th>\n",
              "      <td>این اولین تجربه من برای خرید ایفون هست   امروز...</td>\n",
              "      <td>1</td>\n",
              "    </tr>\n",
              "    <tr>\n",
              "      <th>1</th>\n",
              "      <td>خرید این محصول رو توصیه میکنم</td>\n",
              "      <td>1</td>\n",
              "    </tr>\n",
              "    <tr>\n",
              "      <th>2</th>\n",
              "      <td>1 ساله این گوشی رو دارم   هیچ نقطه ضعفی ازش ند...</td>\n",
              "      <td>1</td>\n",
              "    </tr>\n",
              "    <tr>\n",
              "      <th>3</th>\n",
              "      <td>سلام خدمت دوستان این گوشی از همه نظر عالی  کیف...</td>\n",
              "      <td>1</td>\n",
              "    </tr>\n",
              "    <tr>\n",
              "      <th>4</th>\n",
              "      <td>سلام دوستانی که نگران شکستن صفحه نمایش هستند ا...</td>\n",
              "      <td>1</td>\n",
              "    </tr>\n",
              "  </tbody>\n",
              "</table>\n",
              "</div>"
            ],
            "text/plain": [
              "                                                Text  Suggestion\n",
              "0  این اولین تجربه من برای خرید ایفون هست   امروز...           1\n",
              "1                     خرید این محصول رو توصیه میکنم            1\n",
              "2  1 ساله این گوشی رو دارم   هیچ نقطه ضعفی ازش ند...           1\n",
              "3  سلام خدمت دوستان این گوشی از همه نظر عالی  کیف...           1\n",
              "4  سلام دوستانی که نگران شکستن صفحه نمایش هستند ا...           1"
            ]
          },
          "metadata": {
            "tags": []
          },
          "execution_count": 63
        }
      ]
    },
    {
      "cell_type": "code",
      "metadata": {
        "colab": {
          "base_uri": "https://localhost:8080/"
        },
        "id": "LpnU7LAK03R5",
        "outputId": "d1e24eaf-0d8e-4d5b-a075-4fc30b9ec0bd"
      },
      "source": [
        "df['Suggestion'].value_counts()"
      ],
      "execution_count": 64,
      "outputs": [
        {
          "output_type": "execute_result",
          "data": {
            "text/plain": [
              "1    2801\n",
              "0     460\n",
              "Name: Suggestion, dtype: int64"
            ]
          },
          "metadata": {
            "tags": []
          },
          "execution_count": 64
        }
      ]
    },
    {
      "cell_type": "code",
      "metadata": {
        "id": "gCwkczPcybcD"
      },
      "source": [
        "df_minority = df[df['Suggestion']==0]\n",
        "df_majority = df[df['Suggestion']==1]\n",
        "\n",
        "df_minority_upsampled = resample(df_minority, \n",
        "                                 replace=True,     # sample with replacement\n",
        "                                 n_samples=df_majority.shape[0],    # to match majority class\n",
        "                                 random_state=103) # reproducible results\n",
        " \n",
        "# Combine majority class with upsampled minority class\n",
        "df = pd.concat([df_majority, df_minority_upsampled])"
      ],
      "execution_count": 65,
      "outputs": []
    },
    {
      "cell_type": "code",
      "metadata": {
        "colab": {
          "base_uri": "https://localhost:8080/"
        },
        "id": "pZbQQ8Uf1RRC",
        "outputId": "22d2c7ee-2922-4377-b22c-02ba987452fa"
      },
      "source": [
        "df['Suggestion'].value_counts()"
      ],
      "execution_count": 66,
      "outputs": [
        {
          "output_type": "execute_result",
          "data": {
            "text/plain": [
              "1    2801\n",
              "0    2801\n",
              "Name: Suggestion, dtype: int64"
            ]
          },
          "metadata": {
            "tags": []
          },
          "execution_count": 66
        }
      ]
    },
    {
      "cell_type": "code",
      "metadata": {
        "id": "wwsjiRyqyeBW",
        "colab": {
          "base_uri": "https://localhost:8080/"
        },
        "outputId": "e1409521-fbc6-4703-a4c4-5de120a3bdc0"
      },
      "source": [
        "texts = df.Text.values\n",
        "tokenizer = Tokenizer(num_words=3000)\n",
        "tokenizer.fit_on_texts(texts)\n",
        "\n",
        "vocab_size = len(tokenizer.word_index) + 1\n",
        "print('vocab size: {}'.format(vocab_size))\n",
        "\n",
        "encoded_texts = tokenizer.texts_to_sequences(texts)\n",
        "\n",
        "padded_sequence = pad_sequences(encoded_texts, maxlen=sentences_max_length, padding='post')\n",
        "print('number of padded sequences and its shape:')\n",
        "print(padded_sequence.shape)"
      ],
      "execution_count": 73,
      "outputs": [
        {
          "output_type": "stream",
          "text": [
            "vocab size: 12125\n",
            "number of padded sequences and its shape:\n",
            "(5602, 70)\n"
          ],
          "name": "stdout"
        }
      ]
    },
    {
      "cell_type": "code",
      "metadata": {
        "id": "-bKTZ-EkzC7F"
      },
      "source": [
        "X_train, X_test, y_train, y_test = train_test_split(padded_sequence, df.Suggestion.values, test_size=0.3, shuffle=True)"
      ],
      "execution_count": 76,
      "outputs": []
    },
    {
      "cell_type": "markdown",
      "metadata": {
        "id": "BlZED5HI2fnv"
      },
      "source": [
        "extracting the embedding form of every word in the sequences to take advantage of them in the embedding layer. "
      ]
    },
    {
      "cell_type": "code",
      "metadata": {
        "id": "mnxN0b7a0nje"
      },
      "source": [
        "embedding_matrix = np.zeros((vocab_size, 300))\n",
        "\n",
        "for word, i in tokenizer.word_index.items():\n",
        "  embedding_vector = ft.get_word_vector(word)\n",
        "  # words that cannot be found will be set to 0\n",
        "  if embedding_vector is not None:\n",
        "    embedding_matrix[i] = embedding_vector"
      ],
      "execution_count": 77,
      "outputs": []
    },
    {
      "cell_type": "markdown",
      "metadata": {
        "id": "_KhRDPi121-u"
      },
      "source": [
        "Buliding the model"
      ]
    },
    {
      "cell_type": "code",
      "metadata": {
        "id": "v8CLbEMP0lAQ",
        "colab": {
          "base_uri": "https://localhost:8080/"
        },
        "outputId": "7866a00b-bab8-4025-877e-918a7d62f59a"
      },
      "source": [
        "model = Sequential()\n",
        "model.add(Embedding(vocab_size, embedding_vector_length, input_length=sentences_max_length, weights=[embedding_matrix], trainable=True))\n",
        "model.add(SpatialDropout1D(0.7))\n",
        "model.add(LSTM(lstm_units, dropout=0.5, recurrent_dropout=0.5))\n",
        "model.add(Dropout(0.2))\n",
        "model.add(Dense(1, activation='sigmoid'))\n",
        "model.compile(loss='binary_crossentropy',optimizer='adam', metrics=['accuracy'])\n",
        "print(model.summary())"
      ],
      "execution_count": 108,
      "outputs": [
        {
          "output_type": "stream",
          "text": [
            "WARNING:tensorflow:Layer lstm_8 will not use cuDNN kernel since it doesn't meet the cuDNN kernel criteria. It will use generic GPU kernel as fallback when running on GPU\n",
            "Model: \"sequential_8\"\n",
            "_________________________________________________________________\n",
            "Layer (type)                 Output Shape              Param #   \n",
            "=================================================================\n",
            "embedding_8 (Embedding)      (None, 70, 300)           3637500   \n",
            "_________________________________________________________________\n",
            "spatial_dropout1d_8 (Spatial (None, 70, 300)           0         \n",
            "_________________________________________________________________\n",
            "lstm_8 (LSTM)                (None, 50)                70200     \n",
            "_________________________________________________________________\n",
            "dropout_8 (Dropout)          (None, 50)                0         \n",
            "_________________________________________________________________\n",
            "dense_8 (Dense)              (None, 1)                 51        \n",
            "=================================================================\n",
            "Total params: 3,707,751\n",
            "Trainable params: 3,707,751\n",
            "Non-trainable params: 0\n",
            "_________________________________________________________________\n",
            "None\n"
          ],
          "name": "stdout"
        }
      ]
    },
    {
      "cell_type": "code",
      "metadata": {
        "id": "BFrD99Fu2dvl",
        "colab": {
          "base_uri": "https://localhost:8080/"
        },
        "outputId": "b2e3a7e4-63e7-4a89-f4f5-84e3357082f0"
      },
      "source": [
        " history = model.fit(X_train, y_train, batch_size=32, epochs=30, validation_split=0.2)"
      ],
      "execution_count": 109,
      "outputs": [
        {
          "output_type": "stream",
          "text": [
            "Epoch 1/30\n",
            "98/98 [==============================] - 16s 138ms/step - loss: 0.6933 - accuracy: 0.5132 - val_loss: 0.6838 - val_accuracy: 0.5554\n",
            "Epoch 2/30\n",
            "98/98 [==============================] - 13s 134ms/step - loss: 0.6783 - accuracy: 0.5625 - val_loss: 0.6628 - val_accuracy: 0.5694\n",
            "Epoch 3/30\n",
            "98/98 [==============================] - 13s 133ms/step - loss: 0.6453 - accuracy: 0.5857 - val_loss: 0.5894 - val_accuracy: 0.6624\n",
            "Epoch 4/30\n",
            "98/98 [==============================] - 13s 133ms/step - loss: 0.5537 - accuracy: 0.7136 - val_loss: 0.5260 - val_accuracy: 0.7580\n",
            "Epoch 5/30\n",
            "98/98 [==============================] - 13s 133ms/step - loss: 0.4921 - accuracy: 0.7719 - val_loss: 0.4475 - val_accuracy: 0.8089\n",
            "Epoch 6/30\n",
            "98/98 [==============================] - 13s 133ms/step - loss: 0.4452 - accuracy: 0.8071 - val_loss: 0.4076 - val_accuracy: 0.8357\n",
            "Epoch 7/30\n",
            "98/98 [==============================] - 13s 134ms/step - loss: 0.3996 - accuracy: 0.8402 - val_loss: 0.3507 - val_accuracy: 0.8675\n",
            "Epoch 8/30\n",
            "98/98 [==============================] - 13s 135ms/step - loss: 0.3442 - accuracy: 0.8664 - val_loss: 0.3317 - val_accuracy: 0.8713\n",
            "Epoch 9/30\n",
            "98/98 [==============================] - 13s 135ms/step - loss: 0.3206 - accuracy: 0.8797 - val_loss: 0.3251 - val_accuracy: 0.8752\n",
            "Epoch 10/30\n",
            "98/98 [==============================] - 13s 132ms/step - loss: 0.3293 - accuracy: 0.8766 - val_loss: 0.3220 - val_accuracy: 0.8892\n",
            "Epoch 11/30\n",
            "98/98 [==============================] - 13s 134ms/step - loss: 0.2686 - accuracy: 0.9086 - val_loss: 0.3004 - val_accuracy: 0.8879\n",
            "Epoch 12/30\n",
            "98/98 [==============================] - 13s 133ms/step - loss: 0.2606 - accuracy: 0.9025 - val_loss: 0.2650 - val_accuracy: 0.9083\n",
            "Epoch 13/30\n",
            "98/98 [==============================] - 13s 132ms/step - loss: 0.2359 - accuracy: 0.9241 - val_loss: 0.2806 - val_accuracy: 0.9121\n",
            "Epoch 14/30\n",
            "98/98 [==============================] - 13s 134ms/step - loss: 0.2010 - accuracy: 0.9374 - val_loss: 0.2746 - val_accuracy: 0.8981\n",
            "Epoch 15/30\n",
            "98/98 [==============================] - 13s 133ms/step - loss: 0.1828 - accuracy: 0.9341 - val_loss: 0.3092 - val_accuracy: 0.8917\n",
            "Epoch 16/30\n",
            "98/98 [==============================] - 13s 133ms/step - loss: 0.2070 - accuracy: 0.9271 - val_loss: 0.2862 - val_accuracy: 0.9045\n",
            "Epoch 17/30\n",
            "98/98 [==============================] - 13s 131ms/step - loss: 0.1894 - accuracy: 0.9347 - val_loss: 0.2400 - val_accuracy: 0.9197\n",
            "Epoch 18/30\n",
            "98/98 [==============================] - 13s 132ms/step - loss: 0.1504 - accuracy: 0.9602 - val_loss: 0.3688 - val_accuracy: 0.8892\n",
            "Epoch 19/30\n",
            "98/98 [==============================] - 13s 132ms/step - loss: 0.1602 - accuracy: 0.9413 - val_loss: 0.2708 - val_accuracy: 0.9146\n",
            "Epoch 20/30\n",
            "98/98 [==============================] - 13s 131ms/step - loss: 0.1280 - accuracy: 0.9610 - val_loss: 0.2715 - val_accuracy: 0.9108\n",
            "Epoch 21/30\n",
            "98/98 [==============================] - 13s 132ms/step - loss: 0.1449 - accuracy: 0.9549 - val_loss: 0.2429 - val_accuracy: 0.9197\n",
            "Epoch 22/30\n",
            "98/98 [==============================] - 13s 133ms/step - loss: 0.1254 - accuracy: 0.9627 - val_loss: 0.2589 - val_accuracy: 0.9197\n",
            "Epoch 23/30\n",
            "98/98 [==============================] - 13s 132ms/step - loss: 0.1230 - accuracy: 0.9604 - val_loss: 0.2365 - val_accuracy: 0.9223\n",
            "Epoch 24/30\n",
            "98/98 [==============================] - 13s 132ms/step - loss: 0.0993 - accuracy: 0.9703 - val_loss: 0.2896 - val_accuracy: 0.9121\n",
            "Epoch 25/30\n",
            "98/98 [==============================] - 13s 132ms/step - loss: 0.1431 - accuracy: 0.9575 - val_loss: 0.2585 - val_accuracy: 0.9223\n",
            "Epoch 26/30\n",
            "98/98 [==============================] - 13s 132ms/step - loss: 0.1307 - accuracy: 0.9555 - val_loss: 0.2374 - val_accuracy: 0.9210\n",
            "Epoch 27/30\n",
            "98/98 [==============================] - 13s 131ms/step - loss: 0.0964 - accuracy: 0.9692 - val_loss: 0.3041 - val_accuracy: 0.9172\n",
            "Epoch 28/30\n",
            "98/98 [==============================] - 13s 131ms/step - loss: 0.0967 - accuracy: 0.9733 - val_loss: 0.3124 - val_accuracy: 0.9096\n",
            "Epoch 29/30\n",
            "98/98 [==============================] - 13s 131ms/step - loss: 0.1153 - accuracy: 0.9631 - val_loss: 0.2837 - val_accuracy: 0.9108\n",
            "Epoch 30/30\n",
            "98/98 [==============================] - 13s 132ms/step - loss: 0.1039 - accuracy: 0.9683 - val_loss: 0.3286 - val_accuracy: 0.9096\n"
          ],
          "name": "stdout"
        }
      ]
    },
    {
      "cell_type": "code",
      "metadata": {
        "id": "y8_P9PyG2kf5",
        "colab": {
          "base_uri": "https://localhost:8080/",
          "height": 337
        },
        "outputId": "3a31922d-14a6-4282-cc41-472adbfb6b80"
      },
      "source": [
        "import matplotlib.pyplot as plt\n",
        "plt.style.use('ggplot')\n",
        "\n",
        "def plot_history(history):\n",
        "    acc = history.history['accuracy']\n",
        "    val_acc = history.history['val_accuracy']\n",
        "    loss = history.history['loss']\n",
        "    val_loss = history.history['val_loss']\n",
        "    x = range(1, len(acc) + 1)\n",
        "\n",
        "    plt.figure(figsize=(12, 5))\n",
        "    plt.subplot(1, 2, 1)\n",
        "    plt.plot(x, acc, 'b', label='Training acc')\n",
        "    plt.plot(x, val_acc, 'r', label='Validation acc')\n",
        "    plt.title('Training and validation accuracy')\n",
        "    plt.legend()\n",
        "    plt.subplot(1, 2, 2)\n",
        "    plt.plot(x, loss, 'b', label='Training loss')\n",
        "    plt.plot(x, val_loss, 'r', label='Validation loss')\n",
        "    plt.title('Training and validation loss')\n",
        "    plt.legend()\n",
        "\n",
        "plot_history(history)"
      ],
      "execution_count": 110,
      "outputs": [
        {
          "output_type": "display_data",
          "data": {
            "image/png": "[encoded data removed]",
            "text/plain": [
              "<Figure size 864x360 with 2 Axes>"
            ]
          },
          "metadata": {
            "tags": []
          }
        }
      ]
    },
    {
      "cell_type": "code",
      "metadata": {
        "id": "9kIfoxr8ZUm2",
        "colab": {
          "base_uri": "https://localhost:8080/"
        },
        "outputId": "4478af2a-d5d3-4479-9232-cc3d0e6688f8"
      },
      "source": [
        "model.evaluate(X_test, y_test)"
      ],
      "execution_count": 111,
      "outputs": [
        {
          "output_type": "stream",
          "text": [
            "53/53 [==============================] - 1s 17ms/step - loss: 0.3354 - accuracy: 0.9060\n"
          ],
          "name": "stdout"
        },
        {
          "output_type": "execute_result",
          "data": {
            "text/plain": [
              "[0.3353801369667053, 0.9060083031654358]"
            ]
          },
          "metadata": {
            "tags": []
          },
          "execution_count": 111
        }
      ]
    }
  ]
}