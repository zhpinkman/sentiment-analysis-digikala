{
  "nbformat": 4,
  "nbformat_minor": 0,
  "metadata": {
    "colab": {
      "name": "nlp-sentiment-analysis",
      "provenance": [],
      "collapsed_sections": [],
      "authorship_tag": "ABX9TyMdQU+hRD11/BNRQmZX2pwg",
      "include_colab_link": true
    },
    "kernelspec": {
      "name": "python3",
      "display_name": "Python 3"
    }
  },
  "cells": [
    {
      "cell_type": "markdown",
      "metadata": {
        "id": "view-in-github",
        "colab_type": "text"
      },
      "source": [
        "<a href=\"https://colab.research.google.com/github/zhpinkman/coursera-nlp/blob/master/nlp_sentiment_analysis.ipynb\" target=\"_parent\"><img src=\"https://colab.research.google.com/assets/colab-badge.svg\" alt=\"Open In Colab\"/></a>"
      ]
    },
    {
      "cell_type": "code",
      "metadata": {
        "id": "kpEwv4VhYlTZ",
        "colab_type": "code",
        "colab": {}
      },
      "source": [
        "import numpy as np\n",
        "import pandas as pd"
      ],
      "execution_count": 34,
      "outputs": []
    },
    {
      "cell_type": "code",
      "metadata": {
        "id": "sqaj_T3Tb-Wh",
        "colab_type": "code",
        "colab": {
          "base_uri": "https://localhost:8080/",
          "height": 441
        },
        "outputId": "7b4481cd-6621-4002-d263-e98391cec512"
      },
      "source": [
        "df = pd.read_csv('data.csv')\n",
        "print(df['Suggestion'].unique())\n",
        "df"
      ],
      "execution_count": 35,
      "outputs": [
        {
          "output_type": "stream",
          "text": [
            "[1 3 2]\n"
          ],
          "name": "stdout"
        },
        {
          "output_type": "execute_result",
          "data": {
            "text/html": [
              "<div>\n",
              "<style scoped>\n",
              "    .dataframe tbody tr th:only-of-type {\n",
              "        vertical-align: middle;\n",
              "    }\n",
              "\n",
              "    .dataframe tbody tr th {\n",
              "        vertical-align: top;\n",
              "    }\n",
              "\n",
              "    .dataframe thead th {\n",
              "        text-align: right;\n",
              "    }\n",
              "</style>\n",
              "<table border=\"1\" class=\"dataframe\">\n",
              "  <thead>\n",
              "    <tr style=\"text-align: right;\">\n",
              "      <th></th>\n",
              "      <th>Text</th>\n",
              "      <th>Score</th>\n",
              "      <th>Suggestion</th>\n",
              "    </tr>\n",
              "  </thead>\n",
              "  <tbody>\n",
              "    <tr>\n",
              "      <th>0</th>\n",
              "      <td>این اولین تجربه من برای خرید ایفون هست   امروز...</td>\n",
              "      <td>100</td>\n",
              "      <td>1</td>\n",
              "    </tr>\n",
              "    <tr>\n",
              "      <th>1</th>\n",
              "      <td>خرید این محصول رو توصیه میکنم</td>\n",
              "      <td>84</td>\n",
              "      <td>1</td>\n",
              "    </tr>\n",
              "    <tr>\n",
              "      <th>2</th>\n",
              "      <td>1 ساله این گوشی رو دارم   هیچ نقطه ضعفی ازش ند...</td>\n",
              "      <td>60</td>\n",
              "      <td>1</td>\n",
              "    </tr>\n",
              "    <tr>\n",
              "      <th>3</th>\n",
              "      <td>سلام خدمت دوستان این گوشی از همه نظر عالی  کیف...</td>\n",
              "      <td>96</td>\n",
              "      <td>1</td>\n",
              "    </tr>\n",
              "    <tr>\n",
              "      <th>4</th>\n",
              "      <td>سلام دوستانی که نگران شکستن صفحه نمایش هستند ا...</td>\n",
              "      <td>92</td>\n",
              "      <td>1</td>\n",
              "    </tr>\n",
              "    <tr>\n",
              "      <th>...</th>\n",
              "      <td>...</td>\n",
              "      <td>...</td>\n",
              "      <td>...</td>\n",
              "    </tr>\n",
              "    <tr>\n",
              "      <th>3256</th>\n",
              "      <td>کیفت ساختش خوبه تنوعش هم خوبه   فقط مشکلش اینه...</td>\n",
              "      <td>84</td>\n",
              "      <td>2</td>\n",
              "    </tr>\n",
              "    <tr>\n",
              "      <th>3257</th>\n",
              "      <td>خیلی خوب و به درد بخوره و اندازشم عالیه</td>\n",
              "      <td>100</td>\n",
              "      <td>1</td>\n",
              "    </tr>\n",
              "    <tr>\n",
              "      <th>3258</th>\n",
              "      <td>عالیه خیلی دوسش دارم قیمتش یه کم زیاده ولی به ...</td>\n",
              "      <td>100</td>\n",
              "      <td>1</td>\n",
              "    </tr>\n",
              "    <tr>\n",
              "      <th>3259</th>\n",
              "      <td>من این مینی فرز رو از دیحیکالا سفارش دادم و به...</td>\n",
              "      <td>84</td>\n",
              "      <td>1</td>\n",
              "    </tr>\n",
              "    <tr>\n",
              "      <th>3260</th>\n",
              "      <td>بعد از چند دقیقه که باهاش کار کنی سریع داغ میش...</td>\n",
              "      <td>48</td>\n",
              "      <td>3</td>\n",
              "    </tr>\n",
              "  </tbody>\n",
              "</table>\n",
              "<p>3261 rows × 3 columns</p>\n",
              "</div>"
            ],
            "text/plain": [
              "                                                   Text  Score  Suggestion\n",
              "0     این اولین تجربه من برای خرید ایفون هست   امروز...    100           1\n",
              "1                        خرید این محصول رو توصیه میکنم      84           1\n",
              "2     1 ساله این گوشی رو دارم   هیچ نقطه ضعفی ازش ند...     60           1\n",
              "3     سلام خدمت دوستان این گوشی از همه نظر عالی  کیف...     96           1\n",
              "4     سلام دوستانی که نگران شکستن صفحه نمایش هستند ا...     92           1\n",
              "...                                                 ...    ...         ...\n",
              "3256  کیفت ساختش خوبه تنوعش هم خوبه   فقط مشکلش اینه...     84           2\n",
              "3257           خیلی خوب و به درد بخوره و اندازشم عالیه     100           1\n",
              "3258  عالیه خیلی دوسش دارم قیمتش یه کم زیاده ولی به ...    100           1\n",
              "3259  من این مینی فرز رو از دیحیکالا سفارش دادم و به...     84           1\n",
              "3260  بعد از چند دقیقه که باهاش کار کنی سریع داغ میش...     48           3\n",
              "\n",
              "[3261 rows x 3 columns]"
            ]
          },
          "metadata": {
            "tags": []
          },
          "execution_count": 35
        }
      ]
    },
    {
      "cell_type": "code",
      "metadata": {
        "id": "ZIvlaPh_JeLd",
        "colab_type": "code",
        "colab": {
          "base_uri": "https://localhost:8080/",
          "height": 34
        },
        "outputId": "ee31fbab-0fba-45f1-f0c3-d3862d9358a6"
      },
      "source": [
        "texts = df['Text'].values\n",
        "words = list()\n",
        "for sen in texts:\n",
        "    words.append(sen.split(' '))\n",
        "lens = 0\n",
        "for sen in words:\n",
        "    lens += len(sen)\n",
        "print(lens/len(words))"
      ],
      "execution_count": 36,
      "outputs": [
        {
          "output_type": "stream",
          "text": [
            "56.590616375344986\n"
          ],
          "name": "stdout"
        }
      ]
    },
    {
      "cell_type": "code",
      "metadata": {
        "id": "U7YzNwKfuSkQ",
        "colab_type": "code",
        "colab": {
          "base_uri": "https://localhost:8080/",
          "height": 263
        },
        "outputId": "2b2f2200-6733-4ba7-ee34-ff480d55bf9a"
      },
      "source": [
        "def calculate_lens(x):\n",
        "    text_list = x['Text'].split(' ')\n",
        "    return len(text_list)\n",
        "text_lens = df.apply(calculate_lens, axis=1)\n",
        "print(df['Text'][6])\n",
        "text_lens"
      ],
      "execution_count": 37,
      "outputs": [
        {
          "output_type": "stream",
          "text": [
            "اول از همه خوشحالم که بالاخره نسخه های 128 گیگابایتی برای فروش قرار گرفت چون همیشه من با حافظه گوشی های اندرویدی مشکل داشتم  گوشی قبلی من s7 بود و بعد از 2 سال استفاده که بسیار هم راضی بودم به دلیل تغییرات مثبتی که در گوشی های سامسونگ ایجاد شد تصمیم گرفتم گوشی رو عوض کنم این گوشی واقعا زیباست و طراحی منحصر به فردی داره  زمانی که گوشی رو در دست میگیرید بسیار خودش دست هست و حس خیلی خوبی داره تنها دلیلی که نسخه پلاس رو انتخاب نکردم بزرگی بیش از حد و وزن گوشی بود ولی این نسخه از نظر اندازه فوق العادست کیفیت و بلندی صدای  اسپیکر  ها عالی هست  زمانی که با گوشی قبلی خودم تست کردم واقعا تفاوت زیادی حس میشد  همچنین با گوشی HTC U11 هم مقایسه کردم و باز هم بلندی صدای اس 9 بیشتر بود اما از نظر کیفیت شاید کمی u11 بهتر بود  نگرانی من جای سنسور اثر انگشت بود چون با اس8 که کار کرده بودم اصلا جای مناسبی نداشت ولی این مشکل با تغییر جای سنسور بنظرم کاملا حل شده و سرعت سنسور هم عالی هست و با وجود Intelligent scan که ترکیب سنسور عنبیه و تشخیص چهره هست خیلی نیازی به اثر انگشت احساس نمیشه چون حتی توی تاریکی مطلق هم به سرعت گوشی از این طریق باز میشه اما یک ایراد امنیتی که دیدم این بود که اگر چشمای من بسته باشه باز هم با روش intelligent scan گوشی سریعا باز میشه ولی توی آیفون X ظاهرا با چشمان بسته گوشی باز نمیشه و این از نظر امنیت خیلی بهتره دوربین سلفی خیلی بهتر از گوشی قبلی من هست ولی تفاوت زیادی توی دوربین اصلی با گوشی قبلی خودم ندیدم درکل دوربین اصلی کیفیت خوبی داره و به نسبت نسل های قبل توی زوم آخر نویز کمتری دیده میشه یکی از قابلیت هایی که روی دوربین اس 9 پلاس وجود داره به دلیل دو دوربین بودن گوشی میتونه عکس های بوکه بگیره ولی این گوشی هم چنین قابلیتی داره به اسم selective focus که اگر جسم در فاصله نیم متری باشه دقیقا همون افکت بوکه رو میتونه اعمال کنه و از نظر عملکرد هم خوب بود و در نهایت کیفیت صفحه هم که فوق العادست و بنظرم بهترین هست  و چند مورد هم از نقاط ضعف بگم  باتری   باتری متاسفانه زیاد رضایت بخش نیست و بنظرم به زور میتونه گوشی رو از صبح ساعت 7 8 تا 12 شب برسونه البته استفاده من زیاد هست و همیشه اینترنت هم روشن هست مخصوصا 4G ولی باز انتظار بیشتری میرفت که ظاهرا نسخه پلاس توی این مورد بهتره  مورد بعد AR ایموجی هست که واقعا از نظر عملکرد ضعیف هست و کلا فقط یکبار تستش کردم و کلا ناامید شدم  و دوستان هم تست کردن و اصلا نتیجه جالبی نداشت و همرو  تقریبا یکسان نشون میده نمیدونم چرا سامسونگ این همه روی قابلیت AR ایموجی تبلیغ کرد وقتی به بلوغ نرسیده   و ای کاش مثل نسخه پلاس 6 گیگابایت رم داشت و نمیدونم چرا سامسونگ خواست مثل اپل بین نسخه معمولی و پلاس فرق بزاره   همش تقصیر اپل هست اینارو باب میکنه  D   چون تقریبا 14 15 تا اپ که باز باشه دیگه قبلی هارو میبنده و شروع به ریلود کردن برنامه ها میکنه اگر بازی سنگین اجرا بشه که وضعیت بدتر میشه و با 5 6 تا اپ باز به مشکل بر میخوره و همرو موقع اجرای دوباره ریلود میکنه  در نهایت از خریدم راضی هستم ولی اگر رم 6 گیگابایتی و دوربین دوم نسخه پلاس رو داشت واقعا عالی میشد  چون اصلا نمیتونستم با نسخه پلاس از نظر اندازه کنار بیام و اگر روی قابلیت AR ایموجی بیشتر کار بشه و مثل آیفون X دوربین اسکن سه بعدی اضافه بشه قطعا قابلیت جالبی میشه \n"
          ],
          "name": "stdout"
        },
        {
          "output_type": "execute_result",
          "data": {
            "text/plain": [
              "0        31\n",
              "1         7\n",
              "2        14\n",
              "3        33\n",
              "4        56\n",
              "       ... \n",
              "3256     23\n",
              "3257     10\n",
              "3258     30\n",
              "3259    102\n",
              "3260     30\n",
              "Length: 3261, dtype: int64"
            ]
          },
          "metadata": {
            "tags": []
          },
          "execution_count": 37
        }
      ]
    },
    {
      "cell_type": "code",
      "metadata": {
        "id": "jdIbAhS4fzLI",
        "colab_type": "code",
        "colab": {
          "base_uri": "https://localhost:8080/",
          "height": 424
        },
        "outputId": "ff65e2c1-741e-487b-b600-c04d8c087d7e"
      },
      "source": [
        "df = df[['Text', 'Score']]\n",
        "df = df[(df.Score > 70) | (df.Score < 60)]\n",
        "df\n",
        "def labelScore(x):\n",
        "    if x.Score > 70:\n",
        "        x.Score = 0\n",
        "    elif x.Score < 60:\n",
        "        x.Score = 1\n",
        "    return x\n",
        "\n",
        "df = df.apply(labelScore, axis=1)\n",
        "df"
      ],
      "execution_count": 38,
      "outputs": [
        {
          "output_type": "execute_result",
          "data": {
            "text/html": [
              "<div>\n",
              "<style scoped>\n",
              "    .dataframe tbody tr th:only-of-type {\n",
              "        vertical-align: middle;\n",
              "    }\n",
              "\n",
              "    .dataframe tbody tr th {\n",
              "        vertical-align: top;\n",
              "    }\n",
              "\n",
              "    .dataframe thead th {\n",
              "        text-align: right;\n",
              "    }\n",
              "</style>\n",
              "<table border=\"1\" class=\"dataframe\">\n",
              "  <thead>\n",
              "    <tr style=\"text-align: right;\">\n",
              "      <th></th>\n",
              "      <th>Text</th>\n",
              "      <th>Score</th>\n",
              "    </tr>\n",
              "  </thead>\n",
              "  <tbody>\n",
              "    <tr>\n",
              "      <th>0</th>\n",
              "      <td>این اولین تجربه من برای خرید ایفون هست   امروز...</td>\n",
              "      <td>0</td>\n",
              "    </tr>\n",
              "    <tr>\n",
              "      <th>1</th>\n",
              "      <td>خرید این محصول رو توصیه میکنم</td>\n",
              "      <td>0</td>\n",
              "    </tr>\n",
              "    <tr>\n",
              "      <th>3</th>\n",
              "      <td>سلام خدمت دوستان این گوشی از همه نظر عالی  کیف...</td>\n",
              "      <td>0</td>\n",
              "    </tr>\n",
              "    <tr>\n",
              "      <th>4</th>\n",
              "      <td>سلام دوستانی که نگران شکستن صفحه نمایش هستند ا...</td>\n",
              "      <td>0</td>\n",
              "    </tr>\n",
              "    <tr>\n",
              "      <th>6</th>\n",
              "      <td>اول از همه خوشحالم که بالاخره نسخه های 128 گیگ...</td>\n",
              "      <td>0</td>\n",
              "    </tr>\n",
              "    <tr>\n",
              "      <th>...</th>\n",
              "      <td>...</td>\n",
              "      <td>...</td>\n",
              "    </tr>\n",
              "    <tr>\n",
              "      <th>3256</th>\n",
              "      <td>کیفت ساختش خوبه تنوعش هم خوبه   فقط مشکلش اینه...</td>\n",
              "      <td>0</td>\n",
              "    </tr>\n",
              "    <tr>\n",
              "      <th>3257</th>\n",
              "      <td>خیلی خوب و به درد بخوره و اندازشم عالیه</td>\n",
              "      <td>0</td>\n",
              "    </tr>\n",
              "    <tr>\n",
              "      <th>3258</th>\n",
              "      <td>عالیه خیلی دوسش دارم قیمتش یه کم زیاده ولی به ...</td>\n",
              "      <td>0</td>\n",
              "    </tr>\n",
              "    <tr>\n",
              "      <th>3259</th>\n",
              "      <td>من این مینی فرز رو از دیحیکالا سفارش دادم و به...</td>\n",
              "      <td>0</td>\n",
              "    </tr>\n",
              "    <tr>\n",
              "      <th>3260</th>\n",
              "      <td>بعد از چند دقیقه که باهاش کار کنی سریع داغ میش...</td>\n",
              "      <td>1</td>\n",
              "    </tr>\n",
              "  </tbody>\n",
              "</table>\n",
              "<p>2514 rows × 2 columns</p>\n",
              "</div>"
            ],
            "text/plain": [
              "                                                   Text  Score\n",
              "0     این اولین تجربه من برای خرید ایفون هست   امروز...      0\n",
              "1                        خرید این محصول رو توصیه میکنم       0\n",
              "3     سلام خدمت دوستان این گوشی از همه نظر عالی  کیف...      0\n",
              "4     سلام دوستانی که نگران شکستن صفحه نمایش هستند ا...      0\n",
              "6     اول از همه خوشحالم که بالاخره نسخه های 128 گیگ...      0\n",
              "...                                                 ...    ...\n",
              "3256  کیفت ساختش خوبه تنوعش هم خوبه   فقط مشکلش اینه...      0\n",
              "3257           خیلی خوب و به درد بخوره و اندازشم عالیه       0\n",
              "3258  عالیه خیلی دوسش دارم قیمتش یه کم زیاده ولی به ...      0\n",
              "3259  من این مینی فرز رو از دیحیکالا سفارش دادم و به...      0\n",
              "3260  بعد از چند دقیقه که باهاش کار کنی سریع داغ میش...      1\n",
              "\n",
              "[2514 rows x 2 columns]"
            ]
          },
          "metadata": {
            "tags": []
          },
          "execution_count": 38
        }
      ]
    },
    {
      "cell_type": "code",
      "metadata": {
        "id": "ti9_mIWEy8Dg",
        "colab_type": "code",
        "colab": {
          "base_uri": "https://localhost:8080/",
          "height": 282
        },
        "outputId": "03868bb8-4c68-4ce4-aa8d-a554eeaf65d6"
      },
      "source": [
        "(df['Score'].value_counts()/df.shape[0]).plot(kind='barh')"
      ],
      "execution_count": 39,
      "outputs": [
        {
          "output_type": "execute_result",
          "data": {
            "text/plain": [
              "<matplotlib.axes._subplots.AxesSubplot at 0x7f9e9119f208>"
            ]
          },
          "metadata": {
            "tags": []
          },
          "execution_count": 39
        },
        {
          "output_type": "display_data",
          "data": {
            "image/png": "[encoded data removed]",
            "text/plain": [
              "<Figure size 432x288 with 1 Axes>"
            ]
          },
          "metadata": {
            "tags": [],
            "needs_background": "light"
          }
        }
      ]
    },
    {
      "cell_type": "code",
      "metadata": {
        "id": "1K3HDmrg0Wbm",
        "colab_type": "code",
        "colab": {
          "base_uri": "https://localhost:8080/",
          "height": 69
        },
        "outputId": "a8369df3-6e30-44ea-abc8-85948c524db1"
      },
      "source": [
        "from sklearn.utils import resample\n",
        "\n",
        "df_majority = df[df['Score']==0]\n",
        "df_minority = df[df['Score']==1]\n",
        "\n",
        "df_minority_upsampled = resample(df_minority, \n",
        "                                 replace=True,     # sample with replacement\n",
        "                                 n_samples=df_majority.shape[0],    # to match majority class\n",
        "                                 random_state=123) # reproducible results\n",
        " \n",
        "# Combine majority class with upsampled minority class\n",
        "df = pd.concat([df_majority, df_minority_upsampled])\n",
        "\n",
        "print(df['Score'].value_counts())\n"
      ],
      "execution_count": 40,
      "outputs": [
        {
          "output_type": "stream",
          "text": [
            "1    2015\n",
            "0    2015\n",
            "Name: Score, dtype: int64\n"
          ],
          "name": "stdout"
        }
      ]
    },
    {
      "cell_type": "code",
      "metadata": {
        "id": "N5He254Fnx_e",
        "colab_type": "code",
        "colab": {
          "base_uri": "https://localhost:8080/",
          "height": 382
        },
        "outputId": "545ee1a0-a7b3-472d-d5fd-58818a1699d8"
      },
      "source": [
        "from tensorflow.keras.preprocessing.text import Tokenizer\n",
        "from tensorflow.keras.preprocessing.sequence import pad_sequences\n",
        "\n",
        "texts = df.Text.values\n",
        "tokenizer = Tokenizer(num_words=3000)\n",
        "tokenizer.fit_on_texts(texts)\n",
        "\n",
        "vocab_size = len(tokenizer.word_index) + 1\n",
        "print(vocab_size)\n",
        "\n",
        "encoded_docs = tokenizer.texts_to_sequences(texts)\n",
        "\n",
        "padded_sequence = pad_sequences(encoded_docs, maxlen=70, padding='post')\n",
        "\n",
        "dict(list(tokenizer.word_index.items())[:20])"
      ],
      "execution_count": 41,
      "outputs": [
        {
          "output_type": "stream",
          "text": [
            "10729\n"
          ],
          "name": "stdout"
        },
        {
          "output_type": "execute_result",
          "data": {
            "text/plain": [
              "{'از': 3,\n",
              " 'استفاده': 18,\n",
              " 'این': 5,\n",
              " 'با': 7,\n",
              " 'برای': 13,\n",
              " 'به': 4,\n",
              " 'بود': 20,\n",
              " 'خیلی': 11,\n",
              " 'داره': 15,\n",
              " 'در': 8,\n",
              " 'رو': 6,\n",
              " 'من': 10,\n",
              " 'می': 19,\n",
              " 'های': 17,\n",
              " 'هست': 16,\n",
              " 'هم': 9,\n",
              " 'و': 1,\n",
              " 'ولی': 14,\n",
              " 'که': 2,\n",
              " 'کیفیت': 12}"
            ]
          },
          "metadata": {
            "tags": []
          },
          "execution_count": 41
        }
      ]
    },
    {
      "cell_type": "code",
      "metadata": {
        "id": "5StSPeOQtpkx",
        "colab_type": "code",
        "colab": {
          "base_uri": "https://localhost:8080/",
          "height": 139
        },
        "outputId": "80d54053-91ff-40d1-fd83-8373c7b188e6"
      },
      "source": [
        "print(texts[0])\n",
        "print(encoded_docs[0])\n",
        "print(padded_sequence[0])"
      ],
      "execution_count": 42,
      "outputs": [
        {
          "output_type": "stream",
          "text": [
            "این اولین تجربه من برای خرید ایفون هست   امروز ب دستم رسیده   به اسم طلایی هست ولی دراصل رزگلده  خیلی هم خوش رنگ هست  \n",
            "[5, 348, 481, 10, 13, 50, 16, 308, 377, 158, 792, 4, 1223, 16, 14, 11, 9, 499, 112, 16]\n",
            "[   5  348  481   10   13   50   16  308  377  158  792    4 1223   16\n",
            "   14   11    9  499  112   16    0    0    0    0    0    0    0    0\n",
            "    0    0    0    0    0    0    0    0    0    0    0    0    0    0\n",
            "    0    0    0    0    0    0    0    0    0    0    0    0    0    0\n",
            "    0    0    0    0    0    0    0    0    0    0    0    0    0    0]\n"
          ],
          "name": "stdout"
        }
      ]
    },
    {
      "cell_type": "code",
      "metadata": {
        "id": "9SykpHQKw-ki",
        "colab_type": "code",
        "colab": {
          "base_uri": "https://localhost:8080/",
          "height": 52
        },
        "outputId": "ccda8fae-1b4b-4b13-991f-f6cda86910f7"
      },
      "source": [
        "print(padded_sequence.shape)\n",
        "print(df.Score.values)"
      ],
      "execution_count": 43,
      "outputs": [
        {
          "output_type": "stream",
          "text": [
            "(4030, 70)\n",
            "[0 0 0 ... 1 1 1]\n"
          ],
          "name": "stdout"
        }
      ]
    },
    {
      "cell_type": "code",
      "metadata": {
        "id": "ejezsi62C2Wt",
        "colab_type": "code",
        "colab": {}
      },
      "source": [
        "from sklearn.model_selection import train_test_split\n",
        "\n",
        "X_train, X_test, y_train, y_test = train_test_split(padded_sequence, df.Score.values, test_size=0.3, shuffle=True)"
      ],
      "execution_count": 44,
      "outputs": []
    },
    {
      "cell_type": "code",
      "metadata": {
        "id": "sJyvt9z7uE08",
        "colab_type": "code",
        "colab": {
          "base_uri": "https://localhost:8080/",
          "height": 347
        },
        "outputId": "122d6258-2507-4c78-863b-af658c29a75e"
      },
      "source": [
        "from tensorflow.keras.models import Sequential\n",
        "from tensorflow.keras.layers import LSTM, Dense, Dropout\n",
        "from tensorflow.keras.layers import SpatialDropout1D\n",
        "from tensorflow.keras.layers import Embedding\n",
        "\n",
        "embedding_vector_length = 32\n",
        "\n",
        "model = Sequential()\n",
        "\n",
        "model.add(Embedding(vocab_size, embedding_vector_length, input_length=70))\n",
        "model.add(SpatialDropout1D(0.25))\n",
        "model.add(LSTM(50, dropout=0.5, recurrent_dropout=0.5))\n",
        "model.add(Dropout(0.2))\n",
        "model.add(Dense(1, activation='sigmoid'))\n",
        "model.compile(loss='binary_crossentropy',optimizer='adam', metrics=['accuracy'])\n",
        "print(model.summary())"
      ],
      "execution_count": 45,
      "outputs": [
        {
          "output_type": "stream",
          "text": [
            "Model: \"sequential\"\n",
            "_________________________________________________________________\n",
            "Layer (type)                 Output Shape              Param #   \n",
            "=================================================================\n",
            "embedding (Embedding)        (None, 70, 32)            343328    \n",
            "_________________________________________________________________\n",
            "spatial_dropout1d (SpatialDr (None, 70, 32)            0         \n",
            "_________________________________________________________________\n",
            "lstm (LSTM)                  (None, 50)                16600     \n",
            "_________________________________________________________________\n",
            "dropout (Dropout)            (None, 50)                0         \n",
            "_________________________________________________________________\n",
            "dense (Dense)                (None, 1)                 51        \n",
            "=================================================================\n",
            "Total params: 359,979\n",
            "Trainable params: 359,979\n",
            "Non-trainable params: 0\n",
            "_________________________________________________________________\n",
            "None\n"
          ],
          "name": "stdout"
        }
      ]
    },
    {
      "cell_type": "code",
      "metadata": {
        "id": "MVcNX6oIykih",
        "colab_type": "code",
        "colab": {
          "base_uri": "https://localhost:8080/",
          "height": 1000
        },
        "outputId": "4f09a13b-70bb-4ece-f82f-f727b4e3dcdf"
      },
      "source": [
        "history = model.fit(X_train, y_train, batch_size=32, epochs=40, validation_split=0.2)"
      ],
      "execution_count": 46,
      "outputs": [
        {
          "output_type": "stream",
          "text": [
            "Epoch 1/40\n",
            "71/71 [==============================] - 6s 88ms/step - loss: 0.6931 - accuracy: 0.4991 - val_loss: 0.6985 - val_accuracy: 0.4478\n",
            "Epoch 2/40\n",
            "71/71 [==============================] - 6s 85ms/step - loss: 0.6898 - accuracy: 0.5168 - val_loss: 0.6871 - val_accuracy: 0.5522\n",
            "Epoch 3/40\n",
            "71/71 [==============================] - 6s 84ms/step - loss: 0.6848 - accuracy: 0.5758 - val_loss: 0.6797 - val_accuracy: 0.6177\n",
            "Epoch 4/40\n",
            "71/71 [==============================] - 6s 83ms/step - loss: 0.6589 - accuracy: 0.6020 - val_loss: 0.6404 - val_accuracy: 0.6265\n",
            "Epoch 5/40\n",
            "71/71 [==============================] - 6s 84ms/step - loss: 0.6091 - accuracy: 0.6370 - val_loss: 0.5843 - val_accuracy: 0.6956\n",
            "Epoch 6/40\n",
            "71/71 [==============================] - 6s 84ms/step - loss: 0.5280 - accuracy: 0.7216 - val_loss: 0.5346 - val_accuracy: 0.7398\n",
            "Epoch 7/40\n",
            "71/71 [==============================] - 6s 87ms/step - loss: 0.5120 - accuracy: 0.7473 - val_loss: 0.4826 - val_accuracy: 0.7912\n",
            "Epoch 8/40\n",
            "71/71 [==============================] - 6s 86ms/step - loss: 0.4403 - accuracy: 0.7961 - val_loss: 0.5862 - val_accuracy: 0.7752\n",
            "Epoch 9/40\n",
            "71/71 [==============================] - 6s 85ms/step - loss: 0.4284 - accuracy: 0.8036 - val_loss: 0.4178 - val_accuracy: 0.8389\n",
            "Epoch 10/40\n",
            "71/71 [==============================] - 6s 85ms/step - loss: 0.3414 - accuracy: 0.8706 - val_loss: 0.3496 - val_accuracy: 0.8761\n",
            "Epoch 11/40\n",
            "71/71 [==============================] - 6s 84ms/step - loss: 0.3030 - accuracy: 0.8914 - val_loss: 0.5409 - val_accuracy: 0.8442\n",
            "Epoch 12/40\n",
            "71/71 [==============================] - 6s 85ms/step - loss: 0.2702 - accuracy: 0.9091 - val_loss: 0.5003 - val_accuracy: 0.8566\n",
            "Epoch 13/40\n",
            "71/71 [==============================] - 6s 84ms/step - loss: 0.3019 - accuracy: 0.8883 - val_loss: 0.3807 - val_accuracy: 0.8690\n",
            "Epoch 14/40\n",
            "71/71 [==============================] - 6s 84ms/step - loss: 0.2577 - accuracy: 0.9145 - val_loss: 0.3258 - val_accuracy: 0.8973\n",
            "Epoch 15/40\n",
            "71/71 [==============================] - 6s 84ms/step - loss: 0.2569 - accuracy: 0.9122 - val_loss: 0.4495 - val_accuracy: 0.8779\n",
            "Epoch 16/40\n",
            "71/71 [==============================] - 6s 84ms/step - loss: 0.3120 - accuracy: 0.8994 - val_loss: 0.4520 - val_accuracy: 0.8549\n",
            "Epoch 17/40\n",
            "71/71 [==============================] - 6s 84ms/step - loss: 0.2991 - accuracy: 0.8879 - val_loss: 0.4716 - val_accuracy: 0.8761\n",
            "Epoch 18/40\n",
            "71/71 [==============================] - 6s 83ms/step - loss: 0.2526 - accuracy: 0.9260 - val_loss: 0.3300 - val_accuracy: 0.8885\n",
            "Epoch 19/40\n",
            "71/71 [==============================] - 6s 85ms/step - loss: 0.2135 - accuracy: 0.9353 - val_loss: 0.3658 - val_accuracy: 0.8814\n",
            "Epoch 20/40\n",
            "71/71 [==============================] - 6s 84ms/step - loss: 0.1931 - accuracy: 0.9419 - val_loss: 0.3650 - val_accuracy: 0.8832\n",
            "Epoch 21/40\n",
            "71/71 [==============================] - 6s 84ms/step - loss: 0.1772 - accuracy: 0.9450 - val_loss: 0.3760 - val_accuracy: 0.8867\n",
            "Epoch 22/40\n",
            "71/71 [==============================] - 6s 83ms/step - loss: 0.1697 - accuracy: 0.9543 - val_loss: 0.3533 - val_accuracy: 0.8973\n",
            "Epoch 23/40\n",
            "71/71 [==============================] - 6s 83ms/step - loss: 0.1724 - accuracy: 0.9535 - val_loss: 0.4007 - val_accuracy: 0.8761\n",
            "Epoch 24/40\n",
            "71/71 [==============================] - 6s 83ms/step - loss: 0.1652 - accuracy: 0.9477 - val_loss: 0.4220 - val_accuracy: 0.8920\n",
            "Epoch 25/40\n",
            "71/71 [==============================] - 6s 84ms/step - loss: 0.1676 - accuracy: 0.9481 - val_loss: 0.3780 - val_accuracy: 0.8938\n",
            "Epoch 26/40\n",
            "71/71 [==============================] - 6s 84ms/step - loss: 0.1421 - accuracy: 0.9614 - val_loss: 0.6204 - val_accuracy: 0.8619\n",
            "Epoch 27/40\n",
            "71/71 [==============================] - 6s 83ms/step - loss: 0.2046 - accuracy: 0.9468 - val_loss: 0.3448 - val_accuracy: 0.8920\n",
            "Epoch 28/40\n",
            "71/71 [==============================] - 6s 84ms/step - loss: 0.1661 - accuracy: 0.9566 - val_loss: 0.3916 - val_accuracy: 0.8956\n",
            "Epoch 29/40\n",
            "71/71 [==============================] - 6s 83ms/step - loss: 0.1822 - accuracy: 0.9393 - val_loss: 0.3609 - val_accuracy: 0.8637\n",
            "Epoch 30/40\n",
            "71/71 [==============================] - 6s 83ms/step - loss: 0.1910 - accuracy: 0.9317 - val_loss: 0.3604 - val_accuracy: 0.9080\n",
            "Epoch 31/40\n",
            "71/71 [==============================] - 6s 84ms/step - loss: 0.1186 - accuracy: 0.9668 - val_loss: 0.3365 - val_accuracy: 0.9150\n",
            "Epoch 32/40\n",
            "71/71 [==============================] - 6s 84ms/step - loss: 0.1125 - accuracy: 0.9712 - val_loss: 0.3666 - val_accuracy: 0.9115\n",
            "Epoch 33/40\n",
            "71/71 [==============================] - 6s 84ms/step - loss: 0.1254 - accuracy: 0.9690 - val_loss: 0.3863 - val_accuracy: 0.8938\n",
            "Epoch 34/40\n",
            "71/71 [==============================] - 6s 83ms/step - loss: 0.0983 - accuracy: 0.9765 - val_loss: 0.3878 - val_accuracy: 0.9009\n",
            "Epoch 35/40\n",
            "71/71 [==============================] - 6s 83ms/step - loss: 0.1056 - accuracy: 0.9725 - val_loss: 0.3986 - val_accuracy: 0.8956\n",
            "Epoch 36/40\n",
            "71/71 [==============================] - 6s 83ms/step - loss: 0.1068 - accuracy: 0.9703 - val_loss: 0.3467 - val_accuracy: 0.9115\n",
            "Epoch 37/40\n",
            "71/71 [==============================] - 6s 84ms/step - loss: 0.0940 - accuracy: 0.9756 - val_loss: 0.4545 - val_accuracy: 0.8991\n",
            "Epoch 38/40\n",
            "71/71 [==============================] - 6s 83ms/step - loss: 0.0990 - accuracy: 0.9752 - val_loss: 0.4081 - val_accuracy: 0.8920\n",
            "Epoch 39/40\n",
            "71/71 [==============================] - 6s 82ms/step - loss: 0.0912 - accuracy: 0.9770 - val_loss: 0.4064 - val_accuracy: 0.9009\n",
            "Epoch 40/40\n",
            "71/71 [==============================] - 6s 84ms/step - loss: 0.0878 - accuracy: 0.9809 - val_loss: 0.3918 - val_accuracy: 0.9009\n"
          ],
          "name": "stdout"
        }
      ]
    },
    {
      "cell_type": "code",
      "metadata": {
        "id": "YfwqfevnTfek",
        "colab_type": "code",
        "colab": {
          "base_uri": "https://localhost:8080/",
          "height": 337
        },
        "outputId": "96084111-8b2c-4e87-8f5f-84367c85cf3c"
      },
      "source": [
        "import matplotlib.pyplot as plt\n",
        "plt.style.use('ggplot')\n",
        "\n",
        "def plot_history(history):\n",
        "    acc = history.history['accuracy']\n",
        "    val_acc = history.history['val_accuracy']\n",
        "    loss = history.history['loss']\n",
        "    val_loss = history.history['val_loss']\n",
        "    x = range(1, len(acc) + 1)\n",
        "\n",
        "    plt.figure(figsize=(12, 5))\n",
        "    plt.subplot(1, 2, 1)\n",
        "    plt.plot(x, acc, 'b', label='Training acc')\n",
        "    plt.plot(x, val_acc, 'r', label='Validation acc')\n",
        "    plt.title('Training and validation accuracy')\n",
        "    plt.legend()\n",
        "    plt.subplot(1, 2, 2)\n",
        "    plt.plot(x, loss, 'b', label='Training loss')\n",
        "    plt.plot(x, val_loss, 'r', label='Validation loss')\n",
        "    plt.title('Training and validation loss')\n",
        "    plt.legend()\n",
        "\n",
        "plot_history(history)"
      ],
      "execution_count": 47,
      "outputs": [
        {
          "output_type": "display_data",
          "data": {
            "image/png": "[encoded data removed]",
            "text/plain": [
              "<Figure size 864x360 with 2 Axes>"
            ]
          },
          "metadata": {
            "tags": []
          }
        }
      ]
    },
    {
      "cell_type": "code",
      "metadata": {
        "id": "DtFGAde4Ejsf",
        "colab_type": "code",
        "colab": {
          "base_uri": "https://localhost:8080/",
          "height": 52
        },
        "outputId": "b06f5076-3c37-4105-b229-a2fbb9e586ce"
      },
      "source": [
        "model.evaluate(X_test, y_test)"
      ],
      "execution_count": 48,
      "outputs": [
        {
          "output_type": "stream",
          "text": [
            "38/38 [==============================] - 0s 10ms/step - loss: 0.3529 - accuracy: 0.9123\n"
          ],
          "name": "stdout"
        },
        {
          "output_type": "execute_result",
          "data": {
            "text/plain": [
              "[0.35294896364212036, 0.9123242497444153]"
            ]
          },
          "metadata": {
            "tags": []
          },
          "execution_count": 48
        }
      ]
    },
    {
      "cell_type": "markdown",
      "metadata": {
        "id": "Kex9Hw_MXkef",
        "colab_type": "text"
      },
      "source": [
        "**word2vec gensim**"
      ]
    },
    {
      "cell_type": "code",
      "metadata": {
        "id": "QJVvKosAXrde",
        "colab_type": "code",
        "colab": {
          "base_uri": "https://localhost:8080/",
          "height": 424
        },
        "outputId": "f38df94e-cdb1-4d9d-b109-b73004fee9db"
      },
      "source": [
        "data = pd.read_csv('data.csv')\n",
        "data"
      ],
      "execution_count": null,
      "outputs": [
        {
          "output_type": "execute_result",
          "data": {
            "text/html": [
              "<div>\n",
              "<style scoped>\n",
              "    .dataframe tbody tr th:only-of-type {\n",
              "        vertical-align: middle;\n",
              "    }\n",
              "\n",
              "    .dataframe tbody tr th {\n",
              "        vertical-align: top;\n",
              "    }\n",
              "\n",
              "    .dataframe thead th {\n",
              "        text-align: right;\n",
              "    }\n",
              "</style>\n",
              "<table border=\"1\" class=\"dataframe\">\n",
              "  <thead>\n",
              "    <tr style=\"text-align: right;\">\n",
              "      <th></th>\n",
              "      <th>Text</th>\n",
              "      <th>Score</th>\n",
              "      <th>Suggestion</th>\n",
              "    </tr>\n",
              "  </thead>\n",
              "  <tbody>\n",
              "    <tr>\n",
              "      <th>0</th>\n",
              "      <td>این اولین تجربه من برای خرید ایفون هست   امروز...</td>\n",
              "      <td>100</td>\n",
              "      <td>1</td>\n",
              "    </tr>\n",
              "    <tr>\n",
              "      <th>1</th>\n",
              "      <td>خرید این محصول رو توصیه میکنم</td>\n",
              "      <td>84</td>\n",
              "      <td>1</td>\n",
              "    </tr>\n",
              "    <tr>\n",
              "      <th>2</th>\n",
              "      <td>1 ساله این گوشی رو دارم   هیچ نقطه ضعفی ازش ند...</td>\n",
              "      <td>60</td>\n",
              "      <td>1</td>\n",
              "    </tr>\n",
              "    <tr>\n",
              "      <th>3</th>\n",
              "      <td>سلام خدمت دوستان این گوشی از همه نظر عالی  کیف...</td>\n",
              "      <td>96</td>\n",
              "      <td>1</td>\n",
              "    </tr>\n",
              "    <tr>\n",
              "      <th>4</th>\n",
              "      <td>سلام دوستانی که نگران شکستن صفحه نمایش هستند ا...</td>\n",
              "      <td>92</td>\n",
              "      <td>1</td>\n",
              "    </tr>\n",
              "    <tr>\n",
              "      <th>...</th>\n",
              "      <td>...</td>\n",
              "      <td>...</td>\n",
              "      <td>...</td>\n",
              "    </tr>\n",
              "    <tr>\n",
              "      <th>3256</th>\n",
              "      <td>کیفت ساختش خوبه تنوعش هم خوبه   فقط مشکلش اینه...</td>\n",
              "      <td>84</td>\n",
              "      <td>2</td>\n",
              "    </tr>\n",
              "    <tr>\n",
              "      <th>3257</th>\n",
              "      <td>خیلی خوب و به درد بخوره و اندازشم عالیه</td>\n",
              "      <td>100</td>\n",
              "      <td>1</td>\n",
              "    </tr>\n",
              "    <tr>\n",
              "      <th>3258</th>\n",
              "      <td>عالیه خیلی دوسش دارم قیمتش یه کم زیاده ولی به ...</td>\n",
              "      <td>100</td>\n",
              "      <td>1</td>\n",
              "    </tr>\n",
              "    <tr>\n",
              "      <th>3259</th>\n",
              "      <td>من این مینی فرز رو از دیحیکالا سفارش دادم و به...</td>\n",
              "      <td>84</td>\n",
              "      <td>1</td>\n",
              "    </tr>\n",
              "    <tr>\n",
              "      <th>3260</th>\n",
              "      <td>بعد از چند دقیقه که باهاش کار کنی سریع داغ میش...</td>\n",
              "      <td>48</td>\n",
              "      <td>3</td>\n",
              "    </tr>\n",
              "  </tbody>\n",
              "</table>\n",
              "<p>3261 rows × 3 columns</p>\n",
              "</div>"
            ],
            "text/plain": [
              "                                                   Text  Score  Suggestion\n",
              "0     این اولین تجربه من برای خرید ایفون هست   امروز...    100           1\n",
              "1                        خرید این محصول رو توصیه میکنم      84           1\n",
              "2     1 ساله این گوشی رو دارم   هیچ نقطه ضعفی ازش ند...     60           1\n",
              "3     سلام خدمت دوستان این گوشی از همه نظر عالی  کیف...     96           1\n",
              "4     سلام دوستانی که نگران شکستن صفحه نمایش هستند ا...     92           1\n",
              "...                                                 ...    ...         ...\n",
              "3256  کیفت ساختش خوبه تنوعش هم خوبه   فقط مشکلش اینه...     84           2\n",
              "3257           خیلی خوب و به درد بخوره و اندازشم عالیه     100           1\n",
              "3258  عالیه خیلی دوسش دارم قیمتش یه کم زیاده ولی به ...    100           1\n",
              "3259  من این مینی فرز رو از دیحیکالا سفارش دادم و به...     84           1\n",
              "3260  بعد از چند دقیقه که باهاش کار کنی سریع داغ میش...     48           3\n",
              "\n",
              "[3261 rows x 3 columns]"
            ]
          },
          "metadata": {
            "tags": []
          },
          "execution_count": 3
        }
      ]
    },
    {
      "cell_type": "code",
      "metadata": {
        "id": "nKmFxBC7iXpJ",
        "colab_type": "code",
        "colab": {}
      },
      "source": [
        "!pip install hazm"
      ],
      "execution_count": null,
      "outputs": []
    },
    {
      "cell_type": "code",
      "metadata": {
        "id": "2z4dr-YLYGPw",
        "colab_type": "code",
        "colab": {
          "base_uri": "https://localhost:8080/",
          "height": 52
        },
        "outputId": "f50133b1-5318-4886-8743-6be36993d2e4"
      },
      "source": [
        "from nltk.tokenize import word_tokenize\n",
        "import nltk\n",
        "nltk.download('punkt')\n",
        "\n",
        "from hazm import *"
      ],
      "execution_count": null,
      "outputs": [
        {
          "output_type": "stream",
          "text": [
            "[nltk_data] Downloading package punkt to /root/nltk_data...\n",
            "[nltk_data]   Package punkt is already up-to-date!\n"
          ],
          "name": "stdout"
        }
      ]
    },
    {
      "cell_type": "code",
      "metadata": {
        "id": "b89rvc0QckRN",
        "colab_type": "code",
        "colab": {}
      },
      "source": [
        "persian = open('persian', encoding='utf-8')\n",
        "words = persian.read().split('\\n')\n",
        "stopwords = list()\n",
        "for word in words:\n",
        "    word = word.replace('\\u200c', '')\n",
        "    stopwords.append(word)"
      ],
      "execution_count": null,
      "outputs": []
    },
    {
      "cell_type": "code",
      "metadata": {
        "id": "wMJXcr1NZiS3",
        "colab_type": "code",
        "colab": {
          "base_uri": "https://localhost:8080/",
          "height": 52
        },
        "outputId": "c5daa7de-32c1-4921-f860-4c13c47b0d97"
      },
      "source": [
        "lines = data['Text'].values.tolist()\n",
        "\n",
        "print(lines[0])\n",
        "stemmer = Stemmer()\n",
        "\n",
        "review_lines = []\n",
        "\n",
        "for line in lines:\n",
        "    tokens = word_tokenize(line)\n",
        "    words = [w for w in tokens if not w in stopwords]\n",
        "    words = [stemmer.stem(w) for w in words]\n",
        "    review_lines.append(words)\n",
        "\n",
        "len(review_lines)"
      ],
      "execution_count": null,
      "outputs": [
        {
          "output_type": "stream",
          "text": [
            "این اولین تجربه من برای خرید ایفون هست   امروز ب دستم رسیده   به اسم طلایی هست ولی دراصل رزگلده  خیلی هم خوش رنگ هست  \n"
          ],
          "name": "stdout"
        },
        {
          "output_type": "execute_result",
          "data": {
            "text/plain": [
              "3261"
            ]
          },
          "metadata": {
            "tags": []
          },
          "execution_count": 59
        }
      ]
    },
    {
      "cell_type": "code",
      "metadata": {
        "id": "Yy2J0EcebSGj",
        "colab_type": "code",
        "colab": {
          "base_uri": "https://localhost:8080/",
          "height": 34
        },
        "outputId": "266738c2-d737-46c5-e5ba-4540d9b38f51"
      },
      "source": [
        "import gensim\n",
        "\n",
        "model = gensim.models.Word2Vec(sentences=review_lines, size=100, window=5, workers=4, min_count=1)\n",
        "\n",
        "words = list(model.wv.vocab)\n",
        "print('Vocabulary size: %d' % len(words))"
      ],
      "execution_count": null,
      "outputs": [
        {
          "output_type": "stream",
          "text": [
            "Vocabulary size: 9294\n"
          ],
          "name": "stdout"
        }
      ]
    },
    {
      "cell_type": "code",
      "metadata": {
        "id": "ecflkE9Ob2pT",
        "colab_type": "code",
        "colab": {
          "base_uri": "https://localhost:8080/",
          "height": 245
        },
        "outputId": "31d5d65e-3737-4bd2-9ede-0fc4aacf1c91"
      },
      "source": [
        "model.wv.most_similar('موبایل')"
      ],
      "execution_count": null,
      "outputs": [
        {
          "output_type": "stream",
          "text": [
            "/usr/local/lib/python3.6/dist-packages/gensim/matutils.py:737: FutureWarning: Conversion of the second argument of issubdtype from `int` to `np.signedinteger` is deprecated. In future, it will be treated as `np.int64 == np.dtype(int).type`.\n",
            "  if np.issubdtype(vec.dtype, np.int):\n"
          ],
          "name": "stderr"
        },
        {
          "output_type": "execute_result",
          "data": {
            "text/plain": [
              "[('نیاز', 0.9999120235443115),\n",
              " ('ظرف', 0.9999090433120728),\n",
              " ('گوش', 0.9999082088470459),\n",
              " ('کوچک', 0.9999077320098877),\n",
              " ('دستگاه', 0.9999046325683594),\n",
              " ('میتونید', 0.9999037981033325),\n",
              " ('باشه', 0.9998992681503296),\n",
              " ('پخ', 0.9998987913131714),\n",
              " ('هدفون', 0.9998986721038818),\n",
              " ('نمیشه', 0.9998983144760132)]"
            ]
          },
          "metadata": {
            "tags": []
          },
          "execution_count": 64
        }
      ]
    }
  ]
}